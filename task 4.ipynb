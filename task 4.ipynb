# 🛠 Import Libraries
import pandas as pd
import numpy as np
import matplotlib.pyplot as plt
import seaborn as sns
from sklearn.model_selection import train_test_split
from sklearn.feature_extraction.text import CountVectorizer
from sklearn.naive_bayes import MultinomialNB
from sklearn.metrics import classification_report, confusion_matrix, accuracy_score

# 📥 Load Dataset
df = pd.read_csv("https://raw.githubusercontent.com/justmarkham/pycon-2016-tutorial/master/data/sms.tsv", sep='\t', names=["label", "message"])
print(df.head())

# 🧹 Data Preprocessing
df["label_num"] = df.label.map({'ham': 0, 'spam': 1})

# ✂ Split into training and testing
X_train, X_test, y_train, y_test = train_test_split(df["message"], df["label_num"], test_size=0.2, random_state=42)

# 🧠 Text Vectorization
vectorizer = CountVectorizer()
X_train_vec = vectorizer.fit_transform(X_train)
X_test_vec = vectorizer.transform(X_test)

# 🚀 Model Training
model = MultinomialNB()
model.fit(X_train_vec, y_train)

# 🔍 Model Evaluation
y_pred = model.predict(X_test_vec)

print("🔹 Accuracy Score:", accuracy_score(y_test, y_pred))
print("\n🔹 Classification Report:\n", classification_report(y_test, y_pred))
print("\n🔹 Confusion Matrix:\n", confusion_matrix(y_test, y_pred))

# 📊 Visualization of Confusion Matrix
sns.heatmap(confusion_matrix(y_test, y_pred), annot=True, fmt="d", cmap="Blues")
plt.title("Confusion Matrix")
plt.xlabel("Predicted")
plt.ylabel("Actual")
plt.show()
